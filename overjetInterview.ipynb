{
 "cells": [
  {
   "cell_type": "code",
   "execution_count": 11,
   "metadata": {},
   "outputs": [
    {
     "data": {
      "text/plain": [
       "'\\n@author: brianwsyang\\n@date: Thu Jun 17 2021\\n'"
      ]
     },
     "execution_count": 11,
     "metadata": {},
     "output_type": "execute_result"
    }
   ],
   "source": [
    "'''\r\n",
    "@author: brianwsyang\r\n",
    "@date: Thu Jun 17 2021\r\n",
    "'''"
   ]
  },
  {
   "cell_type": "code",
   "execution_count": 12,
   "metadata": {},
   "outputs": [],
   "source": [
    "import numpy as np\r\n",
    "import pandas as pd\r\n",
    "import re\r\n",
    "import matplotlib.pyplot as plt"
   ]
  },
  {
   "cell_type": "code",
   "execution_count": 13,
   "metadata": {},
   "outputs": [],
   "source": [
    "df = pd.read_csv('heart_attack_data.csv')\r\n",
    "df.drop(columns=['exng', 'oldpeak', 'slp', 'caa', 'thall'],\r\n",
    "        inplace=True)"
   ]
  },
  {
   "cell_type": "code",
   "execution_count": 14,
   "metadata": {},
   "outputs": [
    {
     "data": {
      "text/html": [
       "<div>\n",
       "<style scoped>\n",
       "    .dataframe tbody tr th:only-of-type {\n",
       "        vertical-align: middle;\n",
       "    }\n",
       "\n",
       "    .dataframe tbody tr th {\n",
       "        vertical-align: top;\n",
       "    }\n",
       "\n",
       "    .dataframe thead th {\n",
       "        text-align: right;\n",
       "    }\n",
       "</style>\n",
       "<table border=\"1\" class=\"dataframe\">\n",
       "  <thead>\n",
       "    <tr style=\"text-align: right;\">\n",
       "      <th></th>\n",
       "      <th>age</th>\n",
       "      <th>sex</th>\n",
       "      <th>cp</th>\n",
       "      <th>trtbps</th>\n",
       "      <th>chol</th>\n",
       "      <th>fbs</th>\n",
       "      <th>restecg</th>\n",
       "      <th>thalachh</th>\n",
       "      <th>output</th>\n",
       "    </tr>\n",
       "  </thead>\n",
       "  <tbody>\n",
       "    <tr>\n",
       "      <th>0</th>\n",
       "      <td>63</td>\n",
       "      <td>1</td>\n",
       "      <td>3</td>\n",
       "      <td>145</td>\n",
       "      <td>233</td>\n",
       "      <td>1</td>\n",
       "      <td>0</td>\n",
       "      <td>150</td>\n",
       "      <td>1</td>\n",
       "    </tr>\n",
       "    <tr>\n",
       "      <th>1</th>\n",
       "      <td>37</td>\n",
       "      <td>1</td>\n",
       "      <td>2</td>\n",
       "      <td>130</td>\n",
       "      <td>250</td>\n",
       "      <td>0</td>\n",
       "      <td>1</td>\n",
       "      <td>187</td>\n",
       "      <td>1</td>\n",
       "    </tr>\n",
       "    <tr>\n",
       "      <th>2</th>\n",
       "      <td>41</td>\n",
       "      <td>0</td>\n",
       "      <td>1</td>\n",
       "      <td>130</td>\n",
       "      <td>204</td>\n",
       "      <td>0</td>\n",
       "      <td>0</td>\n",
       "      <td>172</td>\n",
       "      <td>1</td>\n",
       "    </tr>\n",
       "    <tr>\n",
       "      <th>3</th>\n",
       "      <td>56</td>\n",
       "      <td>1</td>\n",
       "      <td>1</td>\n",
       "      <td>120</td>\n",
       "      <td>236</td>\n",
       "      <td>0</td>\n",
       "      <td>1</td>\n",
       "      <td>178</td>\n",
       "      <td>1</td>\n",
       "    </tr>\n",
       "    <tr>\n",
       "      <th>4</th>\n",
       "      <td>57</td>\n",
       "      <td>0</td>\n",
       "      <td>0</td>\n",
       "      <td>120</td>\n",
       "      <td>354</td>\n",
       "      <td>0</td>\n",
       "      <td>1</td>\n",
       "      <td>163</td>\n",
       "      <td>1</td>\n",
       "    </tr>\n",
       "  </tbody>\n",
       "</table>\n",
       "</div>"
      ],
      "text/plain": [
       "   age  sex  cp  trtbps  chol  fbs  restecg  thalachh  output\n",
       "0   63    1   3     145   233    1        0       150       1\n",
       "1   37    1   2     130   250    0        1       187       1\n",
       "2   41    0   1     130   204    0        0       172       1\n",
       "3   56    1   1     120   236    0        1       178       1\n",
       "4   57    0   0     120   354    0        1       163       1"
      ]
     },
     "execution_count": 14,
     "metadata": {},
     "output_type": "execute_result"
    }
   ],
   "source": [
    "df.head()"
   ]
  },
  {
   "cell_type": "code",
   "execution_count": 15,
   "metadata": {},
   "outputs": [],
   "source": [
    "# df.info()"
   ]
  },
  {
   "cell_type": "code",
   "execution_count": 16,
   "metadata": {},
   "outputs": [],
   "source": [
    "# df.describe()"
   ]
  },
  {
   "cell_type": "code",
   "execution_count": 19,
   "metadata": {},
   "outputs": [],
   "source": [
    "# df divided by sex\r\n",
    "male_df = df[df.sex == 1]\r\n",
    "female_df = df[df.sex == 0]\r\n",
    "\r\n",
    "# df divided by output\r\n",
    "ha1_df = df[df.output == 1]\r\n",
    "ha0_df = df[df.output == 0]"
   ]
  },
  {
   "cell_type": "code",
   "execution_count": null,
   "metadata": {},
   "outputs": [
    {
     "name": "stdout",
     "output_type": "stream",
     "text": [
      "(array([0.84622093, 0.89507217, 0.67121155, 0.94087459, 0.78091819]), array([0.93172643, 0.7415425 , 0.33072675, 0.78743065, 0.69475502]))\n",
      "(array([0.43111466, 0.40501208, 0.67149065, 0.67991977, 0.59040321]), array([0.48343156, 0.25629696, 0.00807546, 0.26657754, 0.02822392]))\n",
      "(array([0.18457519, 0.24428447, 0.17417409, 0.29948779, 0.15028674]), array([0.10352368, 0.12145202, 0.1755036 , 0.11708448, 0.04152478]))\n",
      "-\n",
      "((array([0.84622093, 0.89507217, 0.67121155, 0.94087459, 0.78091819]), array([0.93172643, 0.7415425 , 0.33072675, 0.78743065, 0.69475502])), 'red', 'coffee')\n",
      "((array([0.43111466, 0.40501208, 0.67149065, 0.67991977, 0.59040321]), array([0.48343156, 0.25629696, 0.00807546, 0.26657754, 0.02822392])), 'green', 'tea')\n",
      "((array([0.18457519, 0.24428447, 0.17417409, 0.29948779, 0.15028674]), array([0.10352368, 0.12145202, 0.1755036 , 0.11708448, 0.04152478])), 'blue', 'water')\n"
     ]
    }
   ],
   "source": [
    "N = 5\r\n",
    "g1 = (0.6 + 0.6 * np.random.rand(N), np.random.rand(N))\r\n",
    "g2 = (0.4+0.3 * np.random.rand(N), 0.5*np.random.rand(N))\r\n",
    "g3 = (0.3*np.random.rand(N),0.3*np.random.rand(N))\r\n",
    "\r\n",
    "data = (g1, g2, g3)\r\n",
    "colors = ('red', 'green', 'blue')\r\n",
    "groups = ('coffee', 'tea', 'water')\r\n",
    "\r\n",
    "for d in data:\r\n",
    "    print(d)\r\n",
    "print('-')\r\n",
    "for z in zip(data, colors, groups):\r\n",
    "    print(z)\r\n",
    "\r\n",
    "for data, color, group in zip(data, colors, groups):\r\n",
    "    x, y = data\r\n",
    "    # print(data, color, group)\r\n"
   ]
  },
  {
   "cell_type": "code",
   "execution_count": null,
   "metadata": {},
   "outputs": [],
   "source": []
  }
 ],
 "metadata": {
  "interpreter": {
   "hash": "1c85436272c06166f29867ae72f8c26f95c1c4371cf4b502140f7b23ed7a4e8f"
  },
  "kernelspec": {
   "display_name": "Python 3.8.10 64-bit",
   "name": "python3"
  },
  "language_info": {
   "codemirror_mode": {
    "name": "ipython",
    "version": 3
   },
   "file_extension": ".py",
   "mimetype": "text/x-python",
   "name": "python",
   "nbconvert_exporter": "python",
   "pygments_lexer": "ipython3",
   "version": "3.8.10"
  },
  "orig_nbformat": 2
 },
 "nbformat": 4,
 "nbformat_minor": 2
}